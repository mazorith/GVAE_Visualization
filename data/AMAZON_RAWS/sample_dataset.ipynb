{
 "cells": [
  {
   "cell_type": "code",
   "execution_count": 21,
   "id": "dd225f11-1aba-4999-ae18-bf1c7d39abd6",
   "metadata": {},
   "outputs": [],
   "source": [
    "import random\n",
    "import numpy as np"
   ]
  },
  {
   "cell_type": "code",
   "execution_count": 24,
   "id": "be45a8d9-f565-4631-9896-fc6234115ee3",
   "metadata": {},
   "outputs": [],
   "source": [
    "def select_random_lines(file_path, n):\n",
    "    with open(file_path, 'r') as file:\n",
    "        lines = file.readlines()\n",
    "    n = min(n, len(lines))\n",
    "    random_lines = random.sample(lines, n)\n",
    "    return random_lines\n",
    "\n",
    "def write_lines_to_file(lines, output_file_path):\n",
    "    with open(output_file_path, 'w') as file:\n",
    "        file.writelines(lines)\n",
    "\n",
    "def extract_numbers_from_lines(lines):\n",
    "    numbers = []\n",
    "    for line in lines:\n",
    "        numbers.extend(line.strip().split('\\t'))\n",
    "    return numbers\n",
    "    \n",
    "def filter_edges_by_nodes(input_file_path, output_file_path, selected_numbers_set):\n",
    "    with open(input_file_path, 'r') as input_file, open(output_file_path, 'w') as output_file:\n",
    "        for line in input_file:\n",
    "            # if line.startswith('#'): \n",
    "            #     output_file.write(line)\n",
    "            #     continue\n",
    "            parts = line.strip().split('\\t')\n",
    "            if len(parts) == 2:  \n",
    "                from_node, to_node = parts\n",
    "                if from_node in selected_numbers_set and to_node in selected_numbers_set:\n",
    "                    if int(from_node) in nodes and int(to_node) in nodes:\n",
    "                        output_file.write(from_node+','+to_node+'\\n')"
   ]
  },
  {
   "cell_type": "code",
   "execution_count": 25,
   "id": "e23955a1-4640-44c9-a075-75706e75c751",
   "metadata": {},
   "outputs": [],
   "source": [
    "file_path = './com-amazon.top5000.cmty.txt'  \n",
    "n = 5000  \n",
    "random_lines = select_random_lines(file_path, n)"
   ]
  },
  {
   "cell_type": "code",
   "execution_count": 26,
   "id": "2b4dc51b-bf9e-471c-a007-f288a3f14eb0",
   "metadata": {},
   "outputs": [],
   "source": [
    "output_file_path = './sampled_communities.txt'\n",
    "write_lines_to_file(random_lines, output_file_path)"
   ]
  },
  {
   "cell_type": "code",
   "execution_count": 27,
   "id": "e997b56b-31c9-473a-909f-f4886a582215",
   "metadata": {},
   "outputs": [],
   "source": [
    "numbers = extract_numbers_from_lines(random_lines)"
   ]
  },
  {
   "cell_type": "code",
   "execution_count": 28,
   "id": "17d799ae-1e63-4bf5-bced-142c82ccedbd",
   "metadata": {},
   "outputs": [],
   "source": [
    "numbers = set(numbers)"
   ]
  },
  {
   "cell_type": "code",
   "execution_count": 14,
   "id": "c43622a2-d540-41ea-bf63-67ad6b1d65e9",
   "metadata": {},
   "outputs": [],
   "source": [
    "input_file_path = './com-amazon.ungraph.txt'\n",
    "output_file_path = './rexampled_graph.txt'\n",
    "filter_edges_by_nodes(input_file_path, output_file_path, numbers)"
   ]
  },
  {
   "cell_type": "code",
   "execution_count": null,
   "id": "c815fa93-f905-42e9-8b9c-4b729fb0df25",
   "metadata": {},
   "outputs": [],
   "source": []
  },
  {
   "cell_type": "code",
   "execution_count": 29,
   "id": "4dc6ecf2-7a57-4677-a43a-21799c591d47",
   "metadata": {},
   "outputs": [],
   "source": [
    "input_file_path = './com-amazon.ungraph.txt'\n",
    "output_file_path = './rexampled_graph_CSV.txt'\n",
    "filter_edges_by_nodes(input_file_path, output_file_path, numbers)"
   ]
  },
  {
   "cell_type": "code",
   "execution_count": null,
   "id": "2de32d0d-7c4d-4287-b6f8-8adcb5d531bb",
   "metadata": {},
   "outputs": [],
   "source": [
    "edges = np.genfromtxt('./rexampled_graph.txt', dtype=\"int32\")\n",
    "edge = np.array(edges)\n",
    "nodes = list(set(edges[:,0]))\n",
    "nodes.sort()\n",
    "\n",
    "#get communites and create labels\n",
    "with open('./sampled_communities.txt', 'r') as f:\n",
    "    lines = f.readlines()\n",
    "\n",
    "data = [list(map(int, line.strip().split())) for line in lines]\n",
    "communities = np.array(data, dtype=object)\n",
    "\n",
    "with open('./node_label.txt', 'w') as output_file:\n",
    "    for node in nodes:\n",
    "        for l, com in enumerate(communities):\n",
    "            if node in com:\n",
    "                output_file.write(str(node)+','+str(l)+'\\n')\n",
    "                break"
   ]
  },
  {
   "cell_type": "code",
   "execution_count": null,
   "id": "73fe9310-4e46-4ca3-b67b-35daf55d83d6",
   "metadata": {},
   "outputs": [],
   "source": []
  },
  {
   "cell_type": "code",
   "execution_count": null,
   "id": "712378fb-f8f7-4ff7-ac0f-de025b0dce35",
   "metadata": {},
   "outputs": [],
   "source": []
  },
  {
   "cell_type": "code",
   "execution_count": 34,
   "id": "2d562131-ccb5-428a-8589-9a7f7da7c34a",
   "metadata": {},
   "outputs": [],
   "source": [
    "edges = np.genfromtxt('./com-amazon.ungraph.txt', dtype=\"int32\")\n",
    "edge = np.array(edges)\n",
    "nodes = list(set(edges[:,0]))\n",
    "nodes.sort()\n",
    "\n",
    "#get communites and create labels\n",
    "with open('./com-amazon.all.dedup.cmty.txt', 'r') as f:\n",
    "    lines = f.readlines()\n",
    "\n",
    "data = [list(map(int, line.strip().split())) for line in lines]\n",
    "communities = np.array(data, dtype=object)\n",
    "\n",
    "with open('./node_label_2.txt', 'w') as output_file:\n",
    "    for node in nodes:\n",
    "        for l, com in enumerate(communities):\n",
    "            if node in com:\n",
    "                output_file.write(str(node)+','+str(l)+'\\n')\n",
    "                break"
   ]
  },
  {
   "cell_type": "code",
   "execution_count": 36,
   "id": "20a4adff-91a4-4136-8c8a-c547d48e7145",
   "metadata": {},
   "outputs": [],
   "source": [
    "input_file_path = './com-amazon.ungraph.txt'\n",
    "output_file_path = './rexampled_graph_2_CSV.txt'\n",
    "filter_edges_by_nodes(input_file_path, output_file_path, numbers)"
   ]
  },
  {
   "cell_type": "code",
   "execution_count": null,
   "id": "19e0141d-b764-4ef4-aa3c-1a0ac539a78c",
   "metadata": {},
   "outputs": [],
   "source": []
  },
  {
   "cell_type": "code",
   "execution_count": null,
   "id": "ef4c44e9-5e72-4c9b-949e-44158705fdad",
   "metadata": {},
   "outputs": [],
   "source": []
  },
  {
   "cell_type": "code",
   "execution_count": null,
   "id": "d48c4de8-9585-46f4-8371-bce48cbfd2d1",
   "metadata": {},
   "outputs": [],
   "source": []
  }
 ],
 "metadata": {
  "kernelspec": {
   "display_name": "Python 3 (ipykernel)",
   "language": "python",
   "name": "python3"
  },
  "language_info": {
   "codemirror_mode": {
    "name": "ipython",
    "version": 3
   },
   "file_extension": ".py",
   "mimetype": "text/x-python",
   "name": "python",
   "nbconvert_exporter": "python",
   "pygments_lexer": "ipython3",
   "version": "3.9.13"
  }
 },
 "nbformat": 4,
 "nbformat_minor": 5
}
